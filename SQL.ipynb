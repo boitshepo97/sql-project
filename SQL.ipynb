{
 "cells": [
  {
   "cell_type": "markdown",
   "metadata": {},
   "source": [
    "# SQL Project"
   ]
  },
  {
   "cell_type": "markdown",
   "metadata": {},
   "source": [
    " "
   ]
  },
  {
   "cell_type": "markdown",
   "metadata": {},
   "source": [
    "In this project we are to create a database which we will query on in part two of the project. We are going to use SQL (Structured Query Language) which  is a standard language for storing, manipulating and retrieving data in databases."
   ]
  },
  {
   "cell_type": "markdown",
   "metadata": {},
   "source": [
    "#### Import Libraries"
   ]
  },
  {
   "cell_type": "code",
   "execution_count": 36,
   "metadata": {},
   "outputs": [],
   "source": [
    "import pandas as pd\n",
    "import psycopg2"
   ]
  },
  {
   "cell_type": "code",
   "execution_count": null,
   "metadata": {},
   "outputs": [],
   "source": [
    "conn = psycopg2.connect(\"dbname=Umuzi user=user password=pass host=localhost\")"
   ]
  },
  {
   "cell_type": "markdown",
   "metadata": {},
   "source": [
    "# Part 1: Creating a database"
   ]
  },
  {
   "cell_type": "markdown",
   "metadata": {},
   "source": [
    "## Creating Tables"
   ]
  },
  {
   "cell_type": "markdown",
   "metadata": {},
   "source": [
    "### Customer Table"
   ]
  },
  {
   "cell_type": "code",
   "execution_count": null,
   "metadata": {},
   "outputs": [],
   "source": [
    "CREATE TABLE CustomersTable(\n",
    "CustomerID SERIAL PRIMARY KEY,\n",
    "FirstName varchar (50),\n",
    "LastName varchar (50),\n",
    "Gender varchar,Address varchar(200),\n",
    "Phone bigint,\n",
    "Email varchar (100),City varchar (20),\n",
    "Country varchar (50)\n",
    ");"
   ]
  },
  {
   "cell_type": "code",
   "execution_count": null,
   "metadata": {},
   "outputs": [],
   "source": [
    "CREATE TABLE EmployeesTable(\n",
    "EmployeeID SERIAL PRIMARY KEY,\n",
    "FirstName varchar (50),LastName varchar (50),\n",
    "Email varchar (100),\n",
    "JobTitle varchar (20)\n",
    ");"
   ]
  },
  {
   "cell_type": "markdown",
   "metadata": {},
   "source": [
    "### Products Table"
   ]
  },
  {
   "cell_type": "code",
   "execution_count": null,
   "metadata": {},
   "outputs": [],
   "source": [
    "CREATE TABLE ProductsTable(\n",
    "ProductID SERIAL PRIMARY KEY,\n",
    "ProductName varchar (100),\n",
    "Description varchar (300),\n",
    "BuyPrice decimal\n",
    ");"
   ]
  },
  {
   "cell_type": "markdown",
   "metadata": {},
   "source": [
    "### Payments Table"
   ]
  },
  {
   "cell_type": "code",
   "execution_count": null,
   "metadata": {},
   "outputs": [],
   "source": [
    "CREATE TABLE PaymentsTable(\n",
    "CustomerId bigint,\n",
    "PaymentID SERIAL PRIMARY KEY,\n",
    "PaymentDate date,Amount decimal,\n",
    "FOREIGN KEY (CustomerId) REFERENCES CustomersTable(CustomerId)\n",
    ");"
   ]
  },
  {
   "cell_type": "markdown",
   "metadata": {},
   "source": [
    "### Orders Table"
   ]
  },
  {
   "cell_type": "code",
   "execution_count": null,
   "metadata": {},
   "outputs": [],
   "source": [
    "CREATE TABLE OrdersTable(\n",
    "OrderId SERIAL PRIMARY KEY,\n",
    "ProductID bigint,\n",
    "PaymentID bigint,\n",
    "FulfilledByEmployeeID bigint,\n",
    "DateRequired date,\n",
    "DateShipped date,\n",
    "Status varchar (20),\n",
    "FOREIGN KEY (ProductID) REFERENCES ProductsTable(ProductID),\n",
    "FOREIGN KEY (PaymentID) REFERENCES PaymentsTable(PaymentID),\n",
    "FOREIGN KEY (FulfilledByEmployeeID) REFERENCES EmployeesTable(EmployeeID));"
   ]
  },
  {
   "cell_type": "markdown",
   "metadata": {},
   "source": [
    "## Inserting Data to the tables."
   ]
  },
  {
   "cell_type": "markdown",
   "metadata": {},
   "source": [
    "#### FOR CUSTOMER TABLE"
   ]
  },
  {
   "cell_type": "code",
   "execution_count": null,
   "metadata": {},
   "outputs": [],
   "source": [
    "INSERT INTO CustomersTable(CustomerID, FirstName, LastName, Gender, Address, Phone, Email, City, Country)\n",
    "VALUES (1, 'John', 'Hibert', 'Male', '284 chaucer st', 084789657, 'john@gmail.com', 'Johannesburg', 'South Africa');\n",
    "\n",
    "INSERT INTO CustomersTable(CustomerID, FirstName, LastName, Gender, Address, Phone, Email, City, Country)\n",
    "VALUES (2, 'Thando', 'Sithole', 'Female', '240 Sect 1', 0794445584, 'thando@gmail.com', 'Cape Town', 'South Africa');\n",
    "\n",
    "INSERT INTO CustomersTable(CustomerID, FirstName, LastName, Gender, Address, Phone, Email, City, Country)\n",
    "VALUES (3, 'Leon', 'Glen', 'Male', '81 Everton Rd Gillits', 0820832830, 'Leon@gmail.com', 'Durban', 'South Africa');\n",
    "\n",
    "INSERT INTO CustomersTable(CustomerID, FirstName, LastName, Gender, Address, Phone, Email, City, Country)\n",
    "VALUES (4, 'Charl', 'Muller', 'Male', '290A Dorset Ecke', 44856872553, 'Charl.muller@yahoo.com', 'Berlin', 'Germany');\n",
    "\n",
    "INSERT INTO CustomersTable(CustomerID, FirstName, LastName, Gender, Address, Phone, Email, City, Country)\n",
    "VALUES (5, 'Julia', 'Stein', 'Female',\t'2 Wernerring', 448672445058, 'Js234@yahoo.com', 'Frankfurt', 'Germany');"
   ]
  },
  {
   "cell_type": "markdown",
   "metadata": {},
   "source": [
    "#### FOR EMPLOYEE TABLE"
   ]
  },
  {
   "cell_type": "code",
   "execution_count": null,
   "metadata": {},
   "outputs": [],
   "source": [
    "INSERT INTO EmloyeesTable(EmployeeID ,FirstName ,LastName,Email ,JobTitle)\n",
    "VALUES (1, 'Kani', 'Matthew', 'mat@gmail.com', 'Manager');\n",
    "\n",
    "INSERT INTO EmloyeesTable(EmployeeID ,FirstName ,LastName ,Email ,JobTitle)\n",
    "VALUES (2, 'Lesly', 'Cronje', 'LesC@gmail.com', 'Clerk');\n",
    "\n",
    "INSERT INTO EmloyeesTable(EmployeeID ,FirstName ,LastName ,Email ,JobTitle)\n",
    "VALUES (3, 'Gideon', 'Maduku', 'm@gmail.com','Accountant');"
   ]
  },
  {
   "cell_type": "markdown",
   "metadata": {},
   "source": [
    "#### FOR PRODUCTS TABLE"
   ]
  },
  {
   "cell_type": "code",
   "execution_count": null,
   "metadata": {},
   "outputs": [],
   "source": [
    "INSERT INTO ProductsTable(ProductID, ProductName, Description, BuyPrice)\n",
    "VALUES (1, 'Harley Davidson Chopper', 'This replica features working kickstand, front suspension, gear-shift lever', 150.75);\n",
    "\n",
    "INSERT INTO ProductsTable(ProductID, ProductName, Description, BuyPrice)\n",
    "VALUES (2, 'Classic Car', 'Turnable front wheels, steering function', 550.75);\n",
    "\n",
    "INSERT INTO ProductsTable(ProductID, ProductName, Description, BuyPrice)\n",
    "VALUES (3, 'Sports car', 'Turnable front wheels, steering function', 700.60);"
   ]
  },
  {
   "cell_type": "markdown",
   "metadata": {},
   "source": [
    "#### FOR PAYMENTS TABLE "
   ]
  },
  {
   "cell_type": "code",
   "execution_count": null,
   "metadata": {},
   "outputs": [],
   "source": [
    "INSERT INTO PaymentsTable (CustomerId, PaymentID, PaymentDate, Amount)\n",
    "VALUES (1, 1, '2018-09-01', 150.75);\n",
    "\n",
    "INSERT INTO PaymentsTable (CustomerId, PaymentID, PaymentDate, Amount)\n",
    "VALUES (5, 2, '2018-09-03', 150.75);\n",
    "\n",
    "INSERT INTO PaymentsTable (CustomerId, PaymentID, PaymentDate, Amount)\n",
    "VALUES (4, 3, '2018-09-03', 700.60);"
   ]
  },
  {
   "cell_type": "markdown",
   "metadata": {},
   "source": [
    "#### FOR ORDERS TABLE"
   ]
  },
  {
   "cell_type": "code",
   "execution_count": null,
   "metadata": {},
   "outputs": [],
   "source": [
    "INSERT INTO OrdersTable(OrderId, ProductID, PaymentID, FulfilledByEmployeeID, DateRequired, DateShipped, Status)\n",
    "VALUES (1, 1, 1, 2, '2018-09-05', Null, 'Not shipped');\n",
    "\n",
    "INSERT INTO OrdersTable(OrderId, ProductID, PaymentID, FulfilledByEmployeeID, DateRequired, DateShipped, Status)\n",
    "VALUES (2, 1, 2, 2, '2018-09-04', '2018-09-03', 'Shipped');\n",
    "\n",
    "INSERT INTO OrdersTable(OrderId, ProductID, PaymentID, FulfilledByEmployeeID, DateRequired, DateShipped, Status)\n",
    "VALUES (3, 3, 3, 3, '2018-09-06', Null,'Not shipped');"
   ]
  },
  {
   "cell_type": "markdown",
   "metadata": {},
   "source": [
    "# Part 2: Querying a database"
   ]
  },
  {
   "cell_type": "markdown",
   "metadata": {},
   "source": [
    "1. All records"
   ]
  },
  {
   "cell_type": "code",
   "execution_count": null,
   "metadata": {},
   "outputs": [],
   "source": [
    "SELECT * from CustomersTable;"
   ]
  },
  {
   "cell_type": "markdown",
   "metadata": {},
   "source": [
    "2. Name column"
   ]
  },
  {
   "cell_type": "code",
   "execution_count": null,
   "metadata": {},
   "outputs": [],
   "source": [
    "SELECT FirstName, LastName from CustomersTable;"
   ]
  },
  {
   "cell_type": "markdown",
   "metadata": {},
   "source": [
    "3. CustomerID = 1"
   ]
  },
  {
   "cell_type": "code",
   "execution_count": null,
   "metadata": {},
   "outputs": [],
   "source": [
    "SELECT FirstName, LastName FROM CustomersTable WHERE CustomerId = 1;"
   ]
  },
  {
   "cell_type": "markdown",
   "metadata": {},
   "source": [
    "-- Update Lerato Mabitso "
   ]
  },
  {
   "cell_type": "code",
   "execution_count": null,
   "metadata": {},
   "outputs": [],
   "source": [
    "UPDATE CustomersTable SET FirstName = Lerato, LastName = Mabitso WHERE CustomerID = 1;"
   ]
  },
  {
   "cell_type": "markdown",
   "metadata": {},
   "source": [
    "4. Delete"
   ]
  },
  {
   "cell_type": "code",
   "execution_count": null,
   "metadata": {},
   "outputs": [],
   "source": [
    "DELETE FROM CustomersTable WHERE CustomerID = 2;"
   ]
  },
  {
   "cell_type": "markdown",
   "metadata": {},
   "source": [
    "5. Unique"
   ]
  },
  {
   "cell_type": "code",
   "execution_count": null,
   "metadata": {},
   "outputs": [],
   "source": [
    "SELECT Distinct Status From OrdersTable;"
   ]
  },
  {
   "cell_type": "markdown",
   "metadata": {},
   "source": [
    "6. Return"
   ]
  },
  {
   "cell_type": "code",
   "execution_count": null,
   "metadata": {},
   "outputs": [],
   "source": [
    "SELECT MAX(Amount) AS LargestPayment FROM PaymentsTable;"
   ]
  },
  {
   "cell_type": "markdown",
   "metadata": {},
   "source": [
    "7. Sort Country"
   ]
  },
  {
   "cell_type": "code",
   "execution_count": null,
   "metadata": {},
   "outputs": [],
   "source": [
    "SELECT FirstName, LastName FROM CustomersTable ORDER BY Country ASC;"
   ]
  },
  {
   "cell_type": "markdown",
   "metadata": {},
   "source": [
    "8. Price range R100 - R600"
   ]
  },
  {
   "cell_type": "code",
   "execution_count": null,
   "metadata": {},
   "outputs": [],
   "source": [
    "SELECT * FROM ProductsTable WHERE BuyPrice BETWEEN 100 and 600;"
   ]
  },
  {
   "cell_type": "markdown",
   "metadata": {},
   "source": [
    "9. Germany & Berlin"
   ]
  },
  {
   "cell_type": "code",
   "execution_count": null,
   "metadata": {},
   "outputs": [],
   "source": [
    "SELECT * FROM Customers WHERE Country = 'Germany' and City = 'Berlin';"
   ]
  },
  {
   "cell_type": "markdown",
   "metadata": {},
   "source": [
    "10. Cape Town or Durban"
   ]
  },
  {
   "cell_type": "code",
   "execution_count": null,
   "metadata": {},
   "outputs": [],
   "source": [
    "SELECT * FROM CustomersTable WHERE City= 'Cape town' OR City='Durban';"
   ]
  },
  {
   "cell_type": "markdown",
   "metadata": {},
   "source": [
    "11. Price range R500>"
   ]
  },
  {
   "cell_type": "code",
   "execution_count": null,
   "metadata": {},
   "outputs": [],
   "source": [
    "SELECT * FROM ProductsTable WHERE BuyPrice > 500;"
   ]
  },
  {
   "cell_type": "markdown",
   "metadata": {},
   "source": [
    "12. Sum of payments"
   ]
  },
  {
   "cell_type": "code",
   "execution_count": null,
   "metadata": {},
   "outputs": [],
   "source": [
    "SELECT SUM(Amount) FROM PaymentsTable;"
   ]
  },
  {
   "cell_type": "markdown",
   "metadata": {},
   "source": [
    "13. Number of orders"
   ]
  },
  {
   "cell_type": "code",
   "execution_count": null,
   "metadata": {},
   "outputs": [],
   "source": [
    "SELECT COUNT(Status) FROM OrdersTable WHERE status = 'Shipped';"
   ]
  },
  {
   "cell_type": "markdown",
   "metadata": {},
   "source": [
    "14. Average price"
   ]
  },
  {
   "cell_type": "code",
   "execution_count": null,
   "metadata": {},
   "outputs": [],
   "source": [
    "SELECT AVG(BuyPrice/12) AS  AverageDollars, AVG(BuyPrice) AS  Average_Rand FROM ProductsTable;"
   ]
  },
  {
   "cell_type": "markdown",
   "metadata": {},
   "source": [
    "15. Inner Join"
   ]
  },
  {
   "cell_type": "code",
   "execution_count": null,
   "metadata": {},
   "outputs": [],
   "source": [
    "SELECT * FROM CustomersTable INNER JOIN PaymentsTable ON PaymentsTable.CustomerID = CustomersTable.CustomerID;"
   ]
  },
  {
   "cell_type": "markdown",
   "metadata": {},
   "source": [
    "16. Turnable Front Wheels"
   ]
  },
  {
   "cell_type": "code",
   "execution_count": null,
   "metadata": {},
   "outputs": [],
   "source": [
    "SELECT * FROM ProductsTable WHERE description = 'Turnable front wheels, steering function'"
   ]
  }
 ],
 "metadata": {
  "kernelspec": {
   "display_name": "Python 3",
   "language": "python",
   "name": "python3"
  },
  "language_info": {
   "codemirror_mode": {
    "name": "ipython",
    "version": 3
   },
   "file_extension": ".py",
   "mimetype": "text/x-python",
   "name": "python",
   "nbconvert_exporter": "python",
   "pygments_lexer": "ipython3",
   "version": "3.6.9"
  }
 },
 "nbformat": 4,
 "nbformat_minor": 4
}
